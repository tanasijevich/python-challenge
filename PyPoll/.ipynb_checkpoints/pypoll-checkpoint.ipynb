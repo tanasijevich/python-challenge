{
 "cells": [
  {
   "cell_type": "code",
   "execution_count": 2,
   "metadata": {},
   "outputs": [],
   "source": [
    "import pandas as pd\n",
    "import numpy as np\n",
    "import scipy as sts\n",
    "import os\n",
    "import csv"
   ]
  },
  {
   "cell_type": "code",
   "execution_count": 3,
   "metadata": {},
   "outputs": [],
   "source": [
    "election_data = \"Resources/election_data.csv\"\n",
    "election_df = pd.read_csv(election_data)"
   ]
  },
  {
   "cell_type": "code",
   "execution_count": 4,
   "metadata": {},
   "outputs": [
    {
     "data": {
      "text/html": [
       "<div>\n",
       "<style scoped>\n",
       "    .dataframe tbody tr th:only-of-type {\n",
       "        vertical-align: middle;\n",
       "    }\n",
       "\n",
       "    .dataframe tbody tr th {\n",
       "        vertical-align: top;\n",
       "    }\n",
       "\n",
       "    .dataframe thead th {\n",
       "        text-align: right;\n",
       "    }\n",
       "</style>\n",
       "<table border=\"1\" class=\"dataframe\">\n",
       "  <thead>\n",
       "    <tr style=\"text-align: right;\">\n",
       "      <th></th>\n",
       "      <th>Voter ID</th>\n",
       "      <th>County</th>\n",
       "      <th>Candidate</th>\n",
       "    </tr>\n",
       "  </thead>\n",
       "  <tbody>\n",
       "    <tr>\n",
       "      <th>0</th>\n",
       "      <td>12864552</td>\n",
       "      <td>Marsh</td>\n",
       "      <td>Khan</td>\n",
       "    </tr>\n",
       "    <tr>\n",
       "      <th>1</th>\n",
       "      <td>17444633</td>\n",
       "      <td>Marsh</td>\n",
       "      <td>Correy</td>\n",
       "    </tr>\n",
       "    <tr>\n",
       "      <th>2</th>\n",
       "      <td>19330107</td>\n",
       "      <td>Marsh</td>\n",
       "      <td>Khan</td>\n",
       "    </tr>\n",
       "    <tr>\n",
       "      <th>3</th>\n",
       "      <td>19865775</td>\n",
       "      <td>Queen</td>\n",
       "      <td>Khan</td>\n",
       "    </tr>\n",
       "    <tr>\n",
       "      <th>4</th>\n",
       "      <td>11927875</td>\n",
       "      <td>Marsh</td>\n",
       "      <td>Khan</td>\n",
       "    </tr>\n",
       "  </tbody>\n",
       "</table>\n",
       "</div>"
      ],
      "text/plain": [
       "   Voter ID County Candidate\n",
       "0  12864552  Marsh      Khan\n",
       "1  17444633  Marsh    Correy\n",
       "2  19330107  Marsh      Khan\n",
       "3  19865775  Queen      Khan\n",
       "4  11927875  Marsh      Khan"
      ]
     },
     "execution_count": 4,
     "metadata": {},
     "output_type": "execute_result"
    }
   ],
   "source": [
    "election_df.head()"
   ]
  },
  {
   "cell_type": "code",
   "execution_count": 7,
   "metadata": {},
   "outputs": [
    {
     "data": {
      "text/plain": [
       "3521001"
      ]
     },
     "execution_count": 7,
     "metadata": {},
     "output_type": "execute_result"
    }
   ],
   "source": [
    "totalvotes = election_df[\"Voter ID\"].count()\n",
    "totalvotes"
   ]
  },
  {
   "cell_type": "code",
   "execution_count": 85,
   "metadata": {},
   "outputs": [
    {
     "data": {
      "text/plain": [
       "'Khan'"
      ]
     },
     "execution_count": 85,
     "metadata": {},
     "output_type": "execute_result"
    }
   ],
   "source": [
    "candidates = election_df[\"Candidate\"].unique()\n",
    "candidates = candidates.tolist()\n",
    "candidates[0]"
   ]
  },
  {
   "cell_type": "code",
   "execution_count": 106,
   "metadata": {},
   "outputs": [
    {
     "data": {
      "text/plain": [
       "numpy.float64"
      ]
     },
     "execution_count": 106,
     "metadata": {},
     "output_type": "execute_result"
    }
   ],
   "source": [
    "nocounty = election_df.drop(columns=\"County\")\n",
    "onlycadidates = nocounty.drop(columns=\"Voter ID\")\n",
    "candidate_count = onlycadidates.value_counts()\n",
    "candidate_count_df = pd.DataFrame(candidate_count)\n",
    "\n",
    "khan_votes = candidate_count_df[0][0]\n",
    "correy_votes = candidate_count_df[0][1]\n",
    "li_votes = candidate_count_df[0][2]\n",
    "otooley_votes = candidate_count_df[0][3]\n",
    "\n",
    "khan_percent = khan_votes/totalvotes * 100\n",
    "correy_percent = correy_votes/totalvotes * 100\n",
    "li_percent = li_votes/totalvotes * 100\n",
    "otooley_percent = otooley_votes/totalvotes * 100\n",
    "\n",
    "khan_percent = round(khan_percent, 2)\n",
    "correy_percent = round(correy_percent, 2)\n",
    "li_percent = round(li_percent, 2)\n",
    "otooley_percent = round(otooley_percent, 2)\n",
    "\n",
    "percentdata = {\"Candidate\": [\"Khan\", \"Correy\", \"Li\", \"O'Tooley\"], \"Percent\": [khan_percent, correy_percent, li_percent, otooley_percent]}\n",
    "percentdata_df = pd.DataFrame(percentdata)\n",
    "type(percentdata_df[\"Percent\"][0])"
   ]
  },
  {
   "cell_type": "code",
   "execution_count": 98,
   "metadata": {},
   "outputs": [
    {
     "data": {
      "text/plain": [
       "'Khan'"
      ]
     },
     "execution_count": 98,
     "metadata": {},
     "output_type": "execute_result"
    }
   ],
   "source": [
    "winner1 = candidate_count_df[0].idxmax()\n",
    "winner = winner1[0]\n",
    "winner"
   ]
  },
  {
   "cell_type": "code",
   "execution_count": 114,
   "metadata": {},
   "outputs": [
    {
     "name": "stdout",
     "output_type": "stream",
     "text": [
      "Election Results\n",
      "-------------------------\n",
      "Total Votes:  3521001\n",
      "-------------------------\n",
      "Khan: 63.0% (2218231)\n",
      "Correy: 20.0% (704200)\n",
      "Li: 14.0% (492940)\n",
      "O'Tooley: 3.0% (105630)\n",
      "-------------------------\n",
      "Winner:  Khan\n",
      "-------------------------\n"
     ]
    }
   ],
   "source": [
    "print(\"Election Results\")\n",
    "print(\"-------------------------\")\n",
    "print(f\"Total Votes:  {totalvotes}\")\n",
    "print(\"-------------------------\")\n",
    "print(f\"{candidates[0]}: {khan_percent}% ({candidate_count_df[0][0]})\")\n",
    "print(f\"{candidates[1]}: {correy_percent}% ({candidate_count_df[0][1]})\")\n",
    "print(f\"{candidates[2]}: {li_percent}% ({candidate_count_df[0][2]})\")\n",
    "print(f\"{candidates[3]}: {otooley_percent}% ({candidate_count_df[0][3]})\")\n",
    "print(\"-------------------------\")\n",
    "print(f\"Winner:  {winner}\")\n",
    "print(\"-------------------------\")\n",
    "\n",
    "\n",
    "with open('election_analysis.txt', 'w') as text:\n",
    "    text.write(\"Election Results\\n\")\n",
    "    text.write(\"-------------------------\\n\")\n",
    "    text.write(f\"Total Votes:  {totalvotes}\")\n",
    "    text.write(\"-------------------------\\n\")\n",
    "    text.write(f\"{candidates[0]}: {khan_percent}% ({candidate_count_df[0][0]})\")\n",
    "    text.write(f\"{candidates[1]}: {correy_percent}% ({candidate_count_df[0][1]})\")\n",
    "    text.write(f\"{candidates[2]}: {li_percent}% ({candidate_count_df[0][2]})\")\n",
    "    text.write(f\"{candidates[3]}: {otooley_percent}% ({candidate_count_df[0][3]})\")\n",
    "    text.write(\"-------------------------\\n\")\n",
    "    text.write(f\"Winner:  {winner}\\n\")\n",
    "    text.write(\"-------------------------\\n\")    \n",
    "   "
   ]
  },
  {
   "cell_type": "code",
   "execution_count": null,
   "metadata": {},
   "outputs": [],
   "source": []
  }
 ],
 "metadata": {
  "anaconda-cloud": {},
  "kernel_info": {
   "name": "python3"
  },
  "kernelspec": {
   "display_name": "Python 3",
   "language": "python",
   "name": "python3"
  },
  "language_info": {
   "codemirror_mode": {
    "name": "ipython",
    "version": 3
   },
   "file_extension": ".py",
   "mimetype": "text/x-python",
   "name": "python",
   "nbconvert_exporter": "python",
   "pygments_lexer": "ipython3",
   "version": "3.8.8"
  },
  "latex_envs": {
   "LaTeX_envs_menu_present": true,
   "autoclose": false,
   "autocomplete": true,
   "bibliofile": "biblio.bib",
   "cite_by": "apalike",
   "current_citInitial": 1,
   "eqLabelWithNumbers": true,
   "eqNumInitial": 1,
   "hotkeys": {
    "equation": "Ctrl-E",
    "itemize": "Ctrl-I"
   },
   "labels_anchors": false,
   "latex_user_defs": false,
   "report_style_numbering": false,
   "user_envs_cfg": false
  },
  "nteract": {
   "version": "0.2.0"
  }
 },
 "nbformat": 4,
 "nbformat_minor": 4
}
