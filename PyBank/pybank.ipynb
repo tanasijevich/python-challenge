{
 "cells": [
  {
   "cell_type": "code",
   "execution_count": 2,
   "metadata": {},
   "outputs": [],
   "source": [
    "import pandas as pd\n",
    "import numpy as np\n",
    "import scipy as sts\n",
    "import os\n",
    "import csv"
   ]
  },
  {
   "cell_type": "code",
   "execution_count": 3,
   "metadata": {},
   "outputs": [],
   "source": [
    "budget_data = \"Resources/budget_data.csv\"\n",
    "budget_df = pd.read_csv(budget_data)"
   ]
  },
  {
   "cell_type": "code",
   "execution_count": 4,
   "metadata": {},
   "outputs": [
    {
     "data": {
      "text/html": [
       "<div>\n",
       "<style scoped>\n",
       "    .dataframe tbody tr th:only-of-type {\n",
       "        vertical-align: middle;\n",
       "    }\n",
       "\n",
       "    .dataframe tbody tr th {\n",
       "        vertical-align: top;\n",
       "    }\n",
       "\n",
       "    .dataframe thead th {\n",
       "        text-align: right;\n",
       "    }\n",
       "</style>\n",
       "<table border=\"1\" class=\"dataframe\">\n",
       "  <thead>\n",
       "    <tr style=\"text-align: right;\">\n",
       "      <th></th>\n",
       "      <th>Date</th>\n",
       "      <th>Profit/Losses</th>\n",
       "    </tr>\n",
       "  </thead>\n",
       "  <tbody>\n",
       "    <tr>\n",
       "      <th>0</th>\n",
       "      <td>Jan-2010</td>\n",
       "      <td>867884</td>\n",
       "    </tr>\n",
       "    <tr>\n",
       "      <th>1</th>\n",
       "      <td>Feb-2010</td>\n",
       "      <td>984655</td>\n",
       "    </tr>\n",
       "    <tr>\n",
       "      <th>2</th>\n",
       "      <td>Mar-2010</td>\n",
       "      <td>322013</td>\n",
       "    </tr>\n",
       "    <tr>\n",
       "      <th>3</th>\n",
       "      <td>Apr-2010</td>\n",
       "      <td>-69417</td>\n",
       "    </tr>\n",
       "    <tr>\n",
       "      <th>4</th>\n",
       "      <td>May-2010</td>\n",
       "      <td>310503</td>\n",
       "    </tr>\n",
       "  </tbody>\n",
       "</table>\n",
       "</div>"
      ],
      "text/plain": [
       "       Date  Profit/Losses\n",
       "0  Jan-2010         867884\n",
       "1  Feb-2010         984655\n",
       "2  Mar-2010         322013\n",
       "3  Apr-2010         -69417\n",
       "4  May-2010         310503"
      ]
     },
     "execution_count": 4,
     "metadata": {},
     "output_type": "execute_result"
    }
   ],
   "source": [
    "budget_df.head()"
   ]
  },
  {
   "cell_type": "code",
   "execution_count": 5,
   "metadata": {},
   "outputs": [
    {
     "data": {
      "text/plain": [
       "86"
      ]
     },
     "execution_count": 5,
     "metadata": {},
     "output_type": "execute_result"
    }
   ],
   "source": [
    "totalmonths = budget_df[\"Date\"].count()\n",
    "netprofit = budget_df[\"Profit/Losses\"].sum()\n",
    "\n",
    "totalmonths"
   ]
  },
  {
   "cell_type": "code",
   "execution_count": 6,
   "metadata": {},
   "outputs": [],
   "source": [
    "diffrev = budget_df[\"Profit/Losses\"].diff()\n",
    "diffrev_df = pd.DataFrame(diffrev)\n",
    "\n",
    "maxrev = diffrev.max()\n",
    "maxrevrow = diffrev_df.loc[diffrev_df[\"Profit/Losses\"]==maxrev]\n",
    "maxrevindex = maxrevrow.index\n",
    "greatest_increase = budget_df.loc[maxrevindex]\n",
    "greatest_increase_date = greatest_increase[\"Date\"]\n",
    "\n",
    "minrev = diffrev.min()\n",
    "minrevrow = diffrev_df.loc[diffrev_df[\"Profit/Losses\"]==minrev]\n",
    "minrevindex = minrevrow.index\n",
    "greatest_decrease = budget_df.loc[minrevindex]\n",
    "greatest_decrease_date = greatest_decrease[\"Date\"]\n",
    "\n",
    "avgrevchange = diffrev.mean()"
   ]
  },
  {
   "cell_type": "code",
   "execution_count": 7,
   "metadata": {},
   "outputs": [
    {
     "name": "stdout",
     "output_type": "stream",
     "text": [
      "----------------------------------------------------------\n",
      "Financial Analysis\n",
      "----------------------------------------------------------\n",
      "Total Months: 86\n",
      "Total Profits: $38382578\n",
      "Average Change: $-2315.1176470588234\n",
      "Greatest Increase in Profits: 25    Feb-2012\n",
      "Name: Date, dtype: object ($1926159.0)\n",
      "Greatest Decrease in Profits: 44    Sep-2013\n",
      "Name: Date, dtype: object ($-2196167.0)\n",
      "----------------------------------------------------------\n"
     ]
    }
   ],
   "source": [
    "print(\"----------------------------------------------------------\")\n",
    "print(\"Financial Analysis\")\n",
    "print(\"----------------------------------------------------------\")\n",
    "print(\"Total Months: \" + str(totalmonths))\n",
    "print(\"Total Profits: \" + \"$\" + str(netprofit))\n",
    "print(\"Average Change: \" + \"$\" + str(avgrevchange))\n",
    "print(\"Greatest Increase in Profits: \" + str(greatest_increase_date) + \" ($\" + str(maxrev) + \")\")\n",
    "print(\"Greatest Decrease in Profits: \" + str(greatest_decrease_date) + \" ($\" + str(minrev)+ \")\")\n",
    "print(\"----------------------------------------------------------\")"
   ]
  },
  {
   "cell_type": "code",
   "execution_count": 8,
   "metadata": {},
   "outputs": [],
   "source": [
    "with open('financial_analysis.txt', 'w') as text:\n",
    "    text.write(\"----------------------------------------------------------\\n\")\n",
    "    text.write(\"  Financial Analysis\"+ \"\\n\")\n",
    "    text.write(\"----------------------------------------------------------\\n\\n\")\n",
    "    text.write(\"Total Months: \" + str(totalmonths)+ \"\\n\")\n",
    "    text.write(\"Total Profits: \" + \"$\" + str(netprofit)+ \"\\n\")\n",
    "    text.write(\"Average Change:\" + \"$\" + str(avgrevchange)+ \"\\n\")\n",
    "    text.write(\"Greatest Increase in Profits: \" + str(greatest_increase_date) + \" ($\" + str(maxrev) + \")\" + \")\\n\")\n",
    "    text.write(\"Greatest Decrease in Profits: \" + str(greatest_decrease_date) + \" ($\" + str(minrev)+ \")\" + \")\\n\")\n",
    "    text.write(\"----------------------------------------------------------\\n\")"
   ]
  },
  {
   "cell_type": "code",
   "execution_count": null,
   "metadata": {},
   "outputs": [],
   "source": []
  }
 ],
 "metadata": {
  "anaconda-cloud": {},
  "kernel_info": {
   "name": "python3"
  },
  "kernelspec": {
   "display_name": "Python 3",
   "language": "python",
   "name": "python3"
  },
  "language_info": {
   "codemirror_mode": {
    "name": "ipython",
    "version": 3
   },
   "file_extension": ".py",
   "mimetype": "text/x-python",
   "name": "python",
   "nbconvert_exporter": "python",
   "pygments_lexer": "ipython3",
   "version": "3.8.8"
  },
  "latex_envs": {
   "LaTeX_envs_menu_present": true,
   "autoclose": false,
   "autocomplete": true,
   "bibliofile": "biblio.bib",
   "cite_by": "apalike",
   "current_citInitial": 1,
   "eqLabelWithNumbers": true,
   "eqNumInitial": 1,
   "hotkeys": {
    "equation": "Ctrl-E",
    "itemize": "Ctrl-I"
   },
   "labels_anchors": false,
   "latex_user_defs": false,
   "report_style_numbering": false,
   "user_envs_cfg": false
  },
  "nteract": {
   "version": "0.2.0"
  }
 },
 "nbformat": 4,
 "nbformat_minor": 4
}
